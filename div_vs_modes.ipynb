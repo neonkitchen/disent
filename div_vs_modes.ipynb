{
  "nbformat": 4,
  "nbformat_minor": 0,
  "metadata": {
    "colab": {
      "name": "MscRR_divergences_vs_modes.ipynb",
      "provenance": [],
      "collapsed_sections": []
    },
    "kernelspec": {
      "name": "python3",
      "display_name": "Python 3"
    },
    "language_info": {
      "name": "python"
    }
  },
  "cells": [
    {
      "cell_type": "code",
      "metadata": {
        "colab": {
          "base_uri": "https://localhost:8080/"
        },
        "id": "zi_cT6Go4c2G",
        "outputId": "79854b10-52b9-4be9-c184-d1a7070d8932"
      },
      "source": [
        "!pip install scipy==1.1.0"
      ],
      "execution_count": null,
      "outputs": [
        {
          "output_type": "stream",
          "name": "stdout",
          "text": [
            "Collecting scipy==1.1.0\n",
            "  Downloading scipy-1.1.0-cp37-cp37m-manylinux1_x86_64.whl (31.2 MB)\n",
            "\u001b[K     |████████████████████████████████| 31.2 MB 61 kB/s \n",
            "\u001b[?25hRequirement already satisfied: numpy>=1.8.2 in /usr/local/lib/python3.7/dist-packages (from scipy==1.1.0) (1.19.5)\n",
            "Installing collected packages: scipy\n",
            "  Attempting uninstall: scipy\n",
            "    Found existing installation: scipy 1.4.1\n",
            "    Uninstalling scipy-1.4.1:\n",
            "      Successfully uninstalled scipy-1.4.1\n",
            "\u001b[31mERROR: pip's dependency resolver does not currently take into account all the packages that are installed. This behaviour is the source of the following dependency conflicts.\n",
            "pymc3 3.11.4 requires scipy>=1.2.0, but you have scipy 1.1.0 which is incompatible.\n",
            "plotnine 0.6.0 requires scipy>=1.2.0, but you have scipy 1.1.0 which is incompatible.\n",
            "jax 0.2.20 requires scipy>=1.2.1, but you have scipy 1.1.0 which is incompatible.\n",
            "albumentations 0.1.12 requires imgaug<0.2.7,>=0.2.5, but you have imgaug 0.2.9 which is incompatible.\u001b[0m\n",
            "Successfully installed scipy-1.1.0\n"
          ]
        }
      ]
    },
    {
      "cell_type": "code",
      "metadata": {
        "colab": {
          "base_uri": "https://localhost:8080/",
          "height": 680
        },
        "id": "wP0eFCxP34_2",
        "outputId": "26c26aed-5af7-467e-daf9-00c24fffc0fd"
      },
      "source": [
        "import numpy as np\n",
        "import scipy as sp\n",
        "import scipy.stats\n",
        "import matplotlib.pyplot as plt\n",
        "\n",
        "\n",
        "class GaussianMixture1D:\n",
        "    def __init__(self, mixture_probs, means, stds):\n",
        "        self.num_mixtures = len(mixture_probs)\n",
        "        self.mixture_probs = mixture_probs\n",
        "        self.means = means\n",
        "        self.stds = stds\n",
        "\n",
        "    def sample(self, num_samples=1):\n",
        "        mixture_ids = np.random.choice(self.num_mixtures, size=num_samples, p=self.mixture_probs)\n",
        "        result = np.zeros([num_samples])\n",
        "        for sample_idx in range(num_samples):\n",
        "            result[sample_idx] = np.random.normal(\n",
        "                loc=self.means[mixture_ids[sample_idx]],\n",
        "                scale=self.stds[mixture_ids[sample_idx]]\n",
        "            )\n",
        "        return result\n",
        "\n",
        "    def logpdf(self, samples):\n",
        "        mixture_logpdfs = np.zeros([len(samples), self.num_mixtures])\n",
        "        for mixture_idx in range(self.num_mixtures):\n",
        "            mixture_logpdfs[:, mixture_idx] = scipy.stats.norm.logpdf(\n",
        "                samples,\n",
        "                loc=self.means[mixture_idx],\n",
        "                scale=self.stds[mixture_idx]\n",
        "            )\n",
        "        return sp.misc.logsumexp(mixture_logpdfs + np.log(self.mixture_probs), axis=1)\n",
        "\n",
        "    def pdf(self, samples):\n",
        "        return np.exp(self.logpdf(samples))\n",
        "\n",
        "\n",
        "def approx_kl(gmm_1, gmm_2, xs):\n",
        "    ys = gmm_1.pdf(xs) * (gmm_1.logpdf(xs) - gmm_2.logpdf(xs))\n",
        "    return np.trapz(ys, xs)\n",
        "\n",
        "\n",
        "def minimize_pq(p, xs, q_means, q_stds):\n",
        "    q_mean_best = None\n",
        "    q_std_best = None\n",
        "    kl_best = np.inf\n",
        "    for q_mean in q_means:\n",
        "        for q_std in q_stds:\n",
        "            q = GaussianMixture1D(np.array([1]), np.array([q_mean]), np.array([q_std]))\n",
        "            kl = approx_kl(p, q, xs)\n",
        "            if kl < kl_best:\n",
        "                kl_best = kl\n",
        "                q_mean_best = q_mean\n",
        "                q_std_best = q_std\n",
        "\n",
        "    q_best = GaussianMixture1D(np.array([1]), np.array([q_mean_best]), np.array([q_std_best]))\n",
        "    return q_best, kl_best\n",
        "\n",
        "\n",
        "def minimize_qp(p, xs, q_means, q_stds):\n",
        "    q_mean_best = None\n",
        "    q_std_best = None\n",
        "    kl_best = np.inf\n",
        "    for q_mean in q_means:\n",
        "        for q_std in q_stds:\n",
        "            q = GaussianMixture1D(np.array([1]), np.array([q_mean]), np.array([q_std]))\n",
        "            kl = approx_kl(q, p, xs)\n",
        "            if kl < kl_best:\n",
        "                kl_best = kl\n",
        "                q_mean_best = q_mean\n",
        "                q_std_best = q_std\n",
        "\n",
        "    q_best = GaussianMixture1D(np.array([1]), np.array([q_mean_best]), np.array([q_std_best]))\n",
        "    return q_best, kl_best\n",
        "\n",
        "\n",
        "def main():\n",
        "    p_second_means_min = 0\n",
        "    p_second_means_max = 10\n",
        "    num_p_second_means = 5\n",
        "    p_second_mean_list = np.linspace(p_second_means_min, p_second_means_max, num_p_second_means)\n",
        "\n",
        "    p = [None] * num_p_second_means\n",
        "    q_best_forward = [None] * num_p_second_means\n",
        "    kl_best_forward = [None] * num_p_second_means\n",
        "    q_best_reverse = [None] * num_p_second_means\n",
        "    kl_best_reverse = [None] * num_p_second_means\n",
        "\n",
        "    for p_second_mean_idx, p_second_mean in enumerate(p_second_mean_list):\n",
        "        p_mixture_probs = np.array([0.5, 0.5])\n",
        "        p_means = np.array([0, p_second_mean])\n",
        "        p_stds = np.array([1, 1])\n",
        "        p[p_second_mean_idx] = GaussianMixture1D(p_mixture_probs, p_means, p_stds)\n",
        "\n",
        "        q_means_min = np.min(p_means) - 1\n",
        "        q_means_max = np.max(p_means) + 1\n",
        "        num_q_means = 20\n",
        "        q_means = np.linspace(q_means_min, q_means_max, num_q_means)\n",
        "\n",
        "        q_stds_min = 0.1\n",
        "        q_stds_max = 5\n",
        "        num_q_stds = 20\n",
        "        q_stds = np.linspace(q_stds_min, q_stds_max, num_q_stds)\n",
        "\n",
        "        trapz_xs_min = np.min(np.append(p_means, q_means_min)) - 3 * np.max(np.append(p_stds, q_stds_max))\n",
        "        trapz_xs_max = np.max(np.append(p_means, q_means_min)) + 3 * np.max(np.append(p_stds, q_stds_max))\n",
        "        num_trapz_points = 1000\n",
        "        trapz_xs = np.linspace(trapz_xs_min, trapz_xs_max, num_trapz_points)\n",
        "\n",
        "        q_best_forward[p_second_mean_idx], kl_best_forward[p_second_mean_idx] = minimize_pq(\n",
        "            p[p_second_mean_idx], trapz_xs, q_means, q_stds\n",
        "        )\n",
        "        q_best_reverse[p_second_mean_idx], kl_best_reverse[p_second_mean_idx] = minimize_qp(\n",
        "            p[p_second_mean_idx], trapz_xs, q_means, q_stds\n",
        "        )\n",
        "\n",
        "    # plotting\n",
        "    fig, axs = plt.subplots(nrows=1, ncols=num_p_second_means, sharex=True, sharey=True)\n",
        "    fig.set_size_inches(8, 1.5)\n",
        "    for p_second_mean_idx, p_second_mean in enumerate(p_second_mean_list):\n",
        "        xs_min = -5\n",
        "        xs_max = 15\n",
        "        num_plot_points = 1000\n",
        "        xs = np.linspace(xs_min, xs_max, num_plot_points)\n",
        "        axs[p_second_mean_idx].plot(xs, p[p_second_mean_idx].pdf(xs), label='$p$', color='black')\n",
        "        axs[p_second_mean_idx].plot(xs, q_best_forward[p_second_mean_idx].pdf(xs), label='$\\mathrm{argmin}_q \\,\\mathrm{KL}(p || q)$', color='black', linestyle='dashed')\n",
        "        axs[p_second_mean_idx].plot(xs, q_best_reverse[p_second_mean_idx].pdf(xs), label='$\\mathrm{argmin}_q \\,\\mathrm{KL}(q || p)$', color='black', linestyle='dotted')\n",
        "\n",
        "        axs[p_second_mean_idx].spines['right'].set_visible(False)\n",
        "        axs[p_second_mean_idx].spines['top'].set_visible(False)\n",
        "        axs[p_second_mean_idx].set_yticks([])\n",
        "        axs[p_second_mean_idx].set_xticks([])\n",
        "\n",
        "    axs[2].legend(ncol=3, loc='upper center', bbox_to_anchor=(0.5, 0), fontsize='small')\n",
        "    filenames = ['reverse_forward_kl.pdf', 'reverse_forward_kl.png']\n",
        "    for filename in filenames:\n",
        "        fig.savefig(filename, bbox_inches='tight', dpi=200)\n",
        "        print('Saved to {}'.format(filename))\n",
        "\n",
        "\n",
        "if __name__ == '__main__':\n",
        "    main()"
      ],
      "execution_count": null,
      "outputs": [
        {
          "output_type": "stream",
          "name": "stderr",
          "text": [
            "/usr/local/lib/python3.7/dist-packages/ipykernel_launcher.py:32: DeprecationWarning:     `logsumexp` is deprecated!\n",
            "    Importing `logsumexp` from scipy.misc is deprecated in scipy 1.0.0. Use `scipy.special.logsumexp` instead.\n",
            "/usr/local/lib/python3.7/dist-packages/ipykernel_launcher.py:32: DeprecationWarning:     `logsumexp` is deprecated!\n",
            "    Importing `logsumexp` from scipy.misc is deprecated in scipy 1.0.0. Use `scipy.special.logsumexp` instead.\n",
            "/usr/local/lib/python3.7/dist-packages/ipykernel_launcher.py:32: DeprecationWarning:     `logsumexp` is deprecated!\n",
            "    Importing `logsumexp` from scipy.misc is deprecated in scipy 1.0.0. Use `scipy.special.logsumexp` instead.\n",
            "/usr/local/lib/python3.7/dist-packages/ipykernel_launcher.py:32: DeprecationWarning:     `logsumexp` is deprecated!\n",
            "    Importing `logsumexp` from scipy.misc is deprecated in scipy 1.0.0. Use `scipy.special.logsumexp` instead.\n",
            "/usr/local/lib/python3.7/dist-packages/ipykernel_launcher.py:32: DeprecationWarning:     `logsumexp` is deprecated!\n",
            "    Importing `logsumexp` from scipy.misc is deprecated in scipy 1.0.0. Use `scipy.special.logsumexp` instead.\n",
            "/usr/local/lib/python3.7/dist-packages/ipykernel_launcher.py:32: DeprecationWarning:     `logsumexp` is deprecated!\n",
            "    Importing `logsumexp` from scipy.misc is deprecated in scipy 1.0.0. Use `scipy.special.logsumexp` instead.\n",
            "/usr/local/lib/python3.7/dist-packages/ipykernel_launcher.py:32: DeprecationWarning:     `logsumexp` is deprecated!\n",
            "    Importing `logsumexp` from scipy.misc is deprecated in scipy 1.0.0. Use `scipy.special.logsumexp` instead.\n",
            "/usr/local/lib/python3.7/dist-packages/ipykernel_launcher.py:32: DeprecationWarning:     `logsumexp` is deprecated!\n",
            "    Importing `logsumexp` from scipy.misc is deprecated in scipy 1.0.0. Use `scipy.special.logsumexp` instead.\n",
            "/usr/local/lib/python3.7/dist-packages/ipykernel_launcher.py:32: DeprecationWarning:     `logsumexp` is deprecated!\n",
            "    Importing `logsumexp` from scipy.misc is deprecated in scipy 1.0.0. Use `scipy.special.logsumexp` instead.\n",
            "/usr/local/lib/python3.7/dist-packages/ipykernel_launcher.py:32: DeprecationWarning:     `logsumexp` is deprecated!\n",
            "    Importing `logsumexp` from scipy.misc is deprecated in scipy 1.0.0. Use `scipy.special.logsumexp` instead.\n",
            "/usr/local/lib/python3.7/dist-packages/ipykernel_launcher.py:32: DeprecationWarning:     `logsumexp` is deprecated!\n",
            "    Importing `logsumexp` from scipy.misc is deprecated in scipy 1.0.0. Use `scipy.special.logsumexp` instead.\n",
            "/usr/local/lib/python3.7/dist-packages/ipykernel_launcher.py:32: DeprecationWarning:     `logsumexp` is deprecated!\n",
            "    Importing `logsumexp` from scipy.misc is deprecated in scipy 1.0.0. Use `scipy.special.logsumexp` instead.\n",
            "/usr/local/lib/python3.7/dist-packages/ipykernel_launcher.py:32: DeprecationWarning:     `logsumexp` is deprecated!\n",
            "    Importing `logsumexp` from scipy.misc is deprecated in scipy 1.0.0. Use `scipy.special.logsumexp` instead.\n",
            "/usr/local/lib/python3.7/dist-packages/ipykernel_launcher.py:32: DeprecationWarning:     `logsumexp` is deprecated!\n",
            "    Importing `logsumexp` from scipy.misc is deprecated in scipy 1.0.0. Use `scipy.special.logsumexp` instead.\n",
            "/usr/local/lib/python3.7/dist-packages/ipykernel_launcher.py:32: DeprecationWarning:     `logsumexp` is deprecated!\n",
            "    Importing `logsumexp` from scipy.misc is deprecated in scipy 1.0.0. Use `scipy.special.logsumexp` instead.\n"
          ]
        },
        {
          "output_type": "stream",
          "name": "stdout",
          "text": [
            "Saved to reverse_forward_kl.pdf\n",
            "Saved to reverse_forward_kl.png\n"
          ]
        },
        {
          "output_type": "display_data",
          "data": {
            "image/png": "[encoded data removed]",
            "text/plain": [
              "<Figure size 576x108 with 5 Axes>"
            ]
          },
          "metadata": {}
        }
      ]
    },
    {
      "cell_type": "code",
      "metadata": {
        "id": "fPAFkTaI4O0O"
      },
      "source": [
        ""
      ],
      "execution_count": null,
      "outputs": []
    }
  ]
}