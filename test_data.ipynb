{
 "cells": [
  {
   "cell_type": "code",
   "execution_count": 1,
   "id": "c368b1f0-15b0-445e-a14c-06aeef03f05b",
   "metadata": {},
   "outputs": [],
   "source": [
    "import pytorch_lightning as pl\n",
    "from torch import squeeze\n",
    "from torch.optim import Adam\n",
    "from torch.utils.data import DataLoader\n",
    "import torchvision\n",
    "from disent.data.groundtruth._multimodalxysquares import MultimodalXYSquaresData\n",
    "from disent.data.groundtruth._xysquares import XYSquaresData\n",
    "from disent.dataset.groundtruth import GroundTruthDataset\n",
    "from disent.frameworks.vae import BetaVae\n",
    "from disent.metrics import metric_dci, metric_mig\n",
    "from disent.model.ae import EncoderConv64, DecoderConv64, AutoEncoder\n",
    "from disent.schedule import CyclicSchedule\n",
    "from disent.transform import ToStandardisedTensor\n",
    "import matplotlib.pyplot as plt\n",
    "\n",
    "data_old = XYSquaresData()\n",
    "dataset_old = GroundTruthDataset(data_old, transform=ToStandardisedTensor())\n",
    "dataloader_old = DataLoader(dataset=dataset_old, batch_size=1, shuffle=False)\n",
    "iter_loader_old = iter(dataloader_old)\n",
    "\n",
    "data_new = MultimodalXYSquaresData()\n",
    "dataset_new = GroundTruthDataset(data_new, transform=ToStandardisedTensor())\n",
    "dataloader_new = DataLoader(dataset=dataset_new, batch_size=1, shuffle=False)\n",
    "iter_loader_new = iter(dataloader_new)"
   ]
  },
  {
   "cell_type": "code",
   "execution_count": 98,
   "id": "740efcca-9116-40c5-9fdd-40f6edb977d4",
   "metadata": {},
   "outputs": [
    {
     "name": "stdout",
     "output_type": "stream",
     "text": [
      "{'x_orig': 0, 'y_orig': 0}\n",
      "{'x_mod': 0, 'y_mod': 0}\n",
      "{'x_orig': 0, 'y_orig': 8}\n",
      "{'x_mod': 0, 'y_mod': 8}\n",
      "{'x_orig': 32, 'y_orig': 0}\n",
      "{'x_mod': 32, 'y_mod': 0}\n"
     ]
    },
    {
     "data": {
      "text/plain": [
       "<matplotlib.image.AxesImage at 0x7fcca482a580>"
      ]
     },
     "execution_count": 98,
     "metadata": {},
     "output_type": "execute_result"
    },
    {
     "data": {
      "image/png": "[encoded data removed]",
      "text/plain": [
       "<Figure size 720x720 with 2 Axes>"
      ]
     },
     "metadata": {
      "needs_background": "light"
     },
     "output_type": "display_data"
    }
   ],
   "source": [
    "x = next(iter_loader_old)\n",
    "x_mod= next(iter_loader_new)\n",
    "fig = plt.figure()\n",
    "fig.set_figheight(10)\n",
    "fig.set_figwidth(10)\n",
    "\n",
    "#Original XY Squares\n",
    "sub1 = fig.add_subplot(1,3,1)\n",
    "sub1.set_title(\"Original XY Squares\")\n",
    "plt.imshow(squeeze(x['x_targ'][0]).permute(1, 2, 0), \n",
    "cmap= 'hot')\n",
    "\n",
    "#Multi-modal XY Squares\n",
    "sub2 = fig.add_subplot(1,3,2)\n",
    "sub2.set_title(\"Multi-modal XY Squares\")\n",
    "plt.imshow(squeeze(x_mod['x_targ'][0]).permute(1, 2, 0), cmap = 'hot')"
   ]
  },
  {
   "cell_type": "code",
   "execution_count": 11,
   "id": "807d6c29-06d9-4cbd-b413-a6ef365f8cd4",
   "metadata": {},
   "outputs": [
    {
     "ename": "NameError",
     "evalue": "name 'x1' is not defined",
     "output_type": "error",
     "traceback": [
      "\u001b[0;31m-----------------------------------------------------------------------\u001b[0m",
      "\u001b[0;31mNameError\u001b[0m                             Traceback (most recent call last)",
      "\u001b[0;32m<ipython-input-11-24051e406580>\u001b[0m in \u001b[0;36m<module>\u001b[0;34m\u001b[0m\n\u001b[1;32m      1\u001b[0m \u001b[0;32mimport\u001b[0m \u001b[0mPIL\u001b[0m\u001b[0;34m\u001b[0m\u001b[0;34m\u001b[0m\u001b[0m\n\u001b[0;32m----> 2\u001b[0;31m \u001b[0;32mfor\u001b[0m \u001b[0mnum\u001b[0m\u001b[0;34m,\u001b[0m \u001b[0mx\u001b[0m \u001b[0;32min\u001b[0m \u001b[0menumerate\u001b[0m\u001b[0;34m(\u001b[0m\u001b[0;34m[\u001b[0m\u001b[0mx1\u001b[0m\u001b[0;34m,\u001b[0m\u001b[0mx2\u001b[0m\u001b[0;34m]\u001b[0m\u001b[0;34m)\u001b[0m\u001b[0;34m:\u001b[0m\u001b[0;34m\u001b[0m\u001b[0;34m\u001b[0m\u001b[0m\n\u001b[0m\u001b[1;32m      3\u001b[0m     \u001b[0mimg\u001b[0m \u001b[0;34m=\u001b[0m \u001b[0mPIL\u001b[0m\u001b[0;34m.\u001b[0m\u001b[0mImage\u001b[0m\u001b[0;34m.\u001b[0m\u001b[0mopen\u001b[0m\u001b[0;34m(\u001b[0m\u001b[0mx\u001b[0m\u001b[0;34m)\u001b[0m\u001b[0;34m\u001b[0m\u001b[0;34m\u001b[0m\u001b[0m\n\u001b[1;32m      4\u001b[0m     \u001b[0mplt\u001b[0m\u001b[0;34m.\u001b[0m\u001b[0msubplot\u001b[0m\u001b[0;34m(\u001b[0m\u001b[0mrows\u001b[0m\u001b[0;34m,\u001b[0m\u001b[0;36m6\u001b[0m\u001b[0;34m,\u001b[0m\u001b[0mnum\u001b[0m\u001b[0;34m+\u001b[0m\u001b[0;36m1\u001b[0m\u001b[0;34m)\u001b[0m\u001b[0;34m\u001b[0m\u001b[0;34m\u001b[0m\u001b[0m\n\u001b[1;32m      5\u001b[0m     \u001b[0mplt\u001b[0m\u001b[0;34m.\u001b[0m\u001b[0mtitle\u001b[0m\u001b[0;34m(\u001b[0m\u001b[0mx\u001b[0m\u001b[0;34m.\u001b[0m\u001b[0msplit\u001b[0m\u001b[0;34m(\u001b[0m\u001b[0;34m'.'\u001b[0m\u001b[0;34m)\u001b[0m\u001b[0;34m[\u001b[0m\u001b[0;36m0\u001b[0m\u001b[0;34m]\u001b[0m\u001b[0;34m)\u001b[0m\u001b[0;34m\u001b[0m\u001b[0;34m\u001b[0m\u001b[0m\n",
      "\u001b[0;31mNameError\u001b[0m: name 'x1' is not defined"
     ]
    }
   ],
   "source": [
    "import PIL\n",
    "for num, x in enumerate([x1,x2]):\n",
    "    img = PIL.Image.open(x)\n",
    "    plt.subplot(rows,6,num+1)\n",
    "    plt.title(x.split('.')[0])\n",
    "    plt.axis('off')\n",
    "    plt.imshow(img)"
   ]
  },
  {
   "cell_type": "code",
   "execution_count": null,
   "id": "5cacfed4-1055-4475-aadb-4c6d2b7407c3",
   "metadata": {},
   "outputs": [],
   "source": []
  }
 ],
 "metadata": {
  "kernelspec": {
   "display_name": "Python 3",
   "language": "python",
   "name": "python3"
  },
  "language_info": {
   "codemirror_mode": {
    "name": "ipython",
    "version": 3
   },
   "file_extension": ".py",
   "mimetype": "text/x-python",
   "name": "python",
   "nbconvert_exporter": "python",
   "pygments_lexer": "ipython3",
   "version": "3.8.10"
  }
 },
 "nbformat": 4,
 "nbformat_minor": 5
}
