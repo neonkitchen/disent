{
 "cells": [
  {
   "cell_type": "code",
   "execution_count": 46,
   "id": "96b7ffab",
   "metadata": {},
   "outputs": [],
   "source": [
    "import pytorch_lightning as pl\n",
    "import matplotlib.pyplot as plt\n",
    "import numpy as np\n",
    "import torchvision"
   ]
  },
  {
   "cell_type": "code",
   "execution_count": 56,
   "id": "42fcaecf",
   "metadata": {},
   "outputs": [],
   "source": [
    "obs = np.zeros((64, 64, 1), dtype=np.uint8)\n",
    "x_bound = 32\n",
    "\n",
    "quad1 = obs[x_bound:, :x_bound, :]\n",
    "quad2 = obs[:x_bound, x_bound:, :]\n",
    "quad3 = obs[x_bound:, :x_bound, :]\n",
    "quad4 = obs[x_bound:, x_bound:, :]"
   ]
  },
  {
   "cell_type": "code",
   "execution_count": 57,
   "id": "7ccaccb2",
   "metadata": {},
   "outputs": [],
   "source": [
    "obs[32,:]=1"
   ]
  },
  {
   "cell_type": "code",
   "execution_count": 58,
   "id": "8ec1410b",
   "metadata": {},
   "outputs": [
    {
     "data": {
      "text/plain": [
       "<matplotlib.image.AxesImage at 0x7fcf4d636a00>"
      ]
     },
     "execution_count": 58,
     "metadata": {},
     "output_type": "execute_result"
    },
    {
     "data": {
      "image/png": "[encoded data removed]",
      "text/plain": [
       "<Figure size 432x288 with 1 Axes>"
      ]
     },
     "metadata": {
      "needs_background": "light"
     },
     "output_type": "display_data"
    }
   ],
   "source": [
    "plt.imshow((obs))"
   ]
  },
  {
   "cell_type": "code",
   "execution_count": 38,
   "id": "5bbf9c33",
   "metadata": {},
   "outputs": [
    {
     "data": {
      "text/plain": [
       "<matplotlib.image.AxesImage at 0x7fcf4d9acf70>"
      ]
     },
     "execution_count": 38,
     "metadata": {},
     "output_type": "execute_result"
    },
    {
     "data": {
      "image/png": "[encoded data removed]",
      "text/plain": [
       "<Figure size 432x288 with 1 Axes>"
      ]
     },
     "metadata": {
      "needs_background": "light"
     },
     "output_type": "display_data"
    }
   ],
   "source": [
    "plt.imshow((obs))"
   ]
  },
  {
   "cell_type": "code",
   "execution_count": 25,
   "id": "e17dbf6f",
   "metadata": {},
   "outputs": [
    {
     "data": {
      "text/plain": [
       "0"
      ]
     },
     "execution_count": 25,
     "metadata": {},
     "output_type": "execute_result"
    }
   ],
   "source": [
    "np.sum(quad1)"
   ]
  },
  {
   "cell_type": "code",
   "execution_count": 61,
   "id": "0294b59d",
   "metadata": {},
   "outputs": [],
   "source": [
    "factors = []\n",
    "\n",
    "for x in range(0,8):\n",
    "    for y in range(0,8):\n",
    "        factors.append([x,y])\n",
    "        "
   ]
  },
  {
   "cell_type": "code",
   "execution_count": 64,
   "id": "89fe4df8",
   "metadata": {},
   "outputs": [],
   "source": [
    "x,y = factors[0]"
   ]
  },
  {
   "cell_type": "code",
   "execution_count": 65,
   "id": "75e5227e",
   "metadata": {},
   "outputs": [
    {
     "data": {
      "text/plain": [
       "0"
      ]
     },
     "execution_count": 65,
     "metadata": {},
     "output_type": "execute_result"
    }
   ],
   "source": [
    "x"
   ]
  },
  {
   "cell_type": "code",
   "execution_count": 66,
   "id": "8d4eef2f",
   "metadata": {},
   "outputs": [
    {
     "data": {
      "text/plain": [
       "64"
      ]
     },
     "execution_count": 66,
     "metadata": {},
     "output_type": "execute_result"
    }
   ],
   "source": [
    "len(factors)"
   ]
  },
  {
   "cell_type": "code",
   "execution_count": 67,
   "id": "79675327",
   "metadata": {},
   "outputs": [],
   "source": [
    "factors_cluster = []\n",
    "for x in range(0, 8):\n",
    "    for y in range(0, 8):\n",
    "        if x > 3 and y <= 3:\n",
    "            continue\n",
    "        elif x <= 3 and y > 3:\n",
    "            continue\n",
    "        else:\n",
    "            factors_cluster.append([x, y])"
   ]
  },
  {
   "cell_type": "code",
   "execution_count": 68,
   "id": "fd0d769c",
   "metadata": {},
   "outputs": [
    {
     "data": {
      "text/plain": [
       "32"
      ]
     },
     "execution_count": 68,
     "metadata": {},
     "output_type": "execute_result"
    }
   ],
   "source": [
    "len(factors_cluster)"
   ]
  },
  {
   "cell_type": "code",
   "execution_count": 69,
   "id": "c48a9696",
   "metadata": {},
   "outputs": [
    {
     "name": "stdout",
     "output_type": "stream",
     "text": [
      "[[0, 0], [0, 1], [0, 2], [0, 3], [1, 0], [1, 1], [1, 2], [1, 3], [2, 0], [2, 1], [2, 2], [2, 3], [3, 0], [3, 1], [3, 2], [3, 3], [4, 4], [4, 5], [4, 6], [4, 7], [5, 4], [5, 5], [5, 6], [5, 7], [6, 4], [6, 5], [6, 6], [6, 7], [7, 4], [7, 5], [7, 6], [7, 7]]\n"
     ]
    }
   ],
   "source": [
    "print(factors_cluster)"
   ]
  },
  {
   "cell_type": "code",
   "execution_count": 71,
   "id": "489e30f3",
   "metadata": {},
   "outputs": [
    {
     "data": {
      "text/plain": [
       "31"
      ]
     },
     "execution_count": 71,
     "metadata": {},
     "output_type": "execute_result"
    }
   ],
   "source": [
    "min(33,31)"
   ]
  },
  {
   "cell_type": "code",
   "execution_count": null,
   "id": "9b8ec846",
   "metadata": {},
   "outputs": [],
   "source": []
  }
 ],
 "metadata": {
  "kernelspec": {
   "display_name": "Python 3 (ipykernel)",
   "language": "python",
   "name": "python3"
  },
  "language_info": {
   "codemirror_mode": {
    "name": "ipython",
    "version": 3
   },
   "file_extension": ".py",
   "mimetype": "text/x-python",
   "name": "python",
   "nbconvert_exporter": "python",
   "pygments_lexer": "ipython3",
   "version": "3.8.11"
  }
 },
 "nbformat": 4,
 "nbformat_minor": 5
}
