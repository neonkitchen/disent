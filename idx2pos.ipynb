{
 "cells": [
  {
   "cell_type": "code",
   "execution_count": 6,
   "id": "b01bae07-e402-40f2-905b-231c133377cb",
   "metadata": {},
   "outputs": [],
   "source": [
    "from disent.data.util.state_space import StateSpace"
   ]
  },
  {
   "cell_type": "code",
   "execution_count": 309,
   "id": "8209ec5b-d67c-4c99-addb-4419d16d99f3",
   "metadata": {},
   "outputs": [
    {
     "data": {
      "text/plain": [
       "'/Users/neelanpather/dev/disent'"
      ]
     },
     "execution_count": 309,
     "metadata": {},
     "output_type": "execute_result"
    }
   ],
   "source": [
    "import os\n",
    "os.getcwd()"
   ]
  },
  {
   "cell_type": "code",
   "execution_count": 332,
   "id": "8c6b189c-5178-4238-bad3-b16d9232749d",
   "metadata": {},
   "outputs": [],
   "source": [
    "from disent.data.groundtruth import XYSquaresData, MultimodalXYSquaresData"
   ]
  },
  {
   "cell_type": "code",
   "execution_count": 333,
   "id": "1cb20c84-92c9-4699-bd1b-4aa3a7f2d23c",
   "metadata": {},
   "outputs": [],
   "source": [
    "xys = XYSquaresData()\n",
    "xymm = MultimodalXYSquaresData()"
   ]
  },
  {
   "cell_type": "code",
   "execution_count": 334,
   "id": "421761e0-02b3-4e6b-bd21-5f22a42b75ff",
   "metadata": {},
   "outputs": [
    {
     "data": {
      "text/plain": [
       "((8, 8, 8, 8, 8, 8), (8, 8, 8, 8, 8, 8))"
      ]
     },
     "execution_count": 334,
     "metadata": {},
     "output_type": "execute_result"
    }
   ],
   "source": [
    "import numpy as np\n",
    "#xys.factor_names\n",
    "xys.factor_sizes, xymm.factor_sizes\n",
    "#xys._placements\n",
    "#xys._width\n",
    "#xys._num_squares\n",
    "#np.moveaxis(np.unravel_index(9,xys.factor_sizes), source=0, destination=-1)"
   ]
  },
  {
   "cell_type": "code",
   "execution_count": 325,
   "id": "13153a5f-883d-4922-87fc-7388f5da346d",
   "metadata": {},
   "outputs": [
    {
     "data": {
      "text/plain": [
       "(8, 8, 8, 8, 8, 8)"
      ]
     },
     "execution_count": 325,
     "metadata": {},
     "output_type": "execute_result"
    }
   ],
   "source": [
    "2"
   ]
  },
  {
   "cell_type": "code",
   "execution_count": 302,
   "id": "edd6b471-e656-4144-bbe2-fd6e35276492",
   "metadata": {},
   "outputs": [
    {
     "data": {
      "text/plain": [
       "('x_R', 'y_R', 'x_G', 'y_G', 'x_B', 'y_B')"
      ]
     },
     "execution_count": 302,
     "metadata": {},
     "output_type": "execute_result"
    }
   ],
   "source": []
  },
  {
   "cell_type": "code",
   "execution_count": 245,
   "id": "5aca8592-809c-4ed3-8815-165c97a3df71",
   "metadata": {},
   "outputs": [
    {
     "data": {
      "text/plain": [
       "array([7, 7, 7, 7, 7, 7])"
      ]
     },
     "execution_count": 245,
     "metadata": {},
     "output_type": "execute_result"
    }
   ],
   "source": [
    "idx=262143\n",
    "xys.idx_to_pos(idx)"
   ]
  },
  {
   "cell_type": "code",
   "execution_count": 275,
   "id": "08fbe1a8-6c1c-4825-9691-95ce346fa1ba",
   "metadata": {},
   "outputs": [
    {
     "data": {
      "text/plain": [
       "array([0, 0, 0, 0, 0, 0])"
      ]
     },
     "execution_count": 275,
     "metadata": {},
     "output_type": "execute_result"
    }
   ],
   "source": [
    "idx=0\n",
    "xys.idx_to_pos(idx)"
   ]
  },
  {
   "cell_type": "code",
   "execution_count": 292,
   "id": "2fab03b9-317e-4e1d-91a1-6e1d1fdb39b5",
   "metadata": {},
   "outputs": [
    {
     "name": "stdout",
     "output_type": "stream",
     "text": [
      "idx:  15\n",
      "factors:  [0 0 0 0 1 7]\n",
      "\n",
      "i:  0\n",
      "fx: 0\n",
      "fy: 0\n",
      "x: 0\n",
      "y: 0\n",
      "\n",
      "i:  1\n",
      "fx: 0\n",
      "fy: 0\n",
      "x: 0\n",
      "y: 0\n",
      "\n",
      "i:  2\n",
      "fx: 1\n",
      "fy: 7\n",
      "x: 8\n",
      "y: 56\n",
      "\n"
     ]
    }
   ],
   "source": [
    "factors = xys.idx_to_pos(idx)\n",
    "print('idx: ', idx)\n",
    "print('factors: ', factors)\n",
    "print()\n",
    "from disent.util import iter_chunks\n",
    "for i, (fx, fy) in enumerate(iter_chunks(factors, 2)):\n",
    "        x, y = xys._offset + xys._spacing * fx, xys._offset + xys._spacing * fy\n",
    "        \n",
    "        print('i: ', i)\n",
    "        print('fx:', fx)\n",
    "        print('fy:', fy)\n",
    "        print('x:', x)\n",
    "        print('y:', y)\n",
    "        print()     \n",
    "idx += 1 "
   ]
  },
  {
   "cell_type": "code",
   "execution_count": 295,
   "id": "740efcca-9116-40c5-9fdd-40f6edb977d4",
   "metadata": {
    "tags": []
   },
   "outputs": [
    {
     "data": {
      "text/plain": [
       "<matplotlib.image.AxesImage at 0x7ffd922a9580>"
      ]
     },
     "execution_count": 295,
     "metadata": {},
     "output_type": "execute_result"
    },
    {
     "data": {
      "image/png": "[encoded data removed]",
      "text/plain": [
       "<Figure size 720x720 with 2 Axes>"
      ]
     },
     "metadata": {
      "needs_background": "light"
     },
     "output_type": "display_data"
    }
   ],
   "source": [
    "x = next(iter_loader_old)\n",
    "x_mod = next(iter_loader_new)\n",
    "\n",
    "fig = plt.figure()\n",
    "fig.set_figheight(10)\n",
    "fig.set_figwidth(10)\n",
    "\n",
    "#Original XY Squares\n",
    "sub1 = fig.add_subplot(1,3,1)\n",
    "sub1.set_title(\"Original XY Squares\")\n",
    "plt.imshow(squeeze(x['x_targ'][0]).permute(1, 2, 0), \n",
    "cmap= 'hot')\n",
    "\n",
    "#Multi-modal XY Squares\n",
    "sub2 = fig.add_subplot(1,3,2)\n",
    "sub2.set_title(\"Multi-modal XY Squares\")\n",
    "plt.imshow(squeeze(x_mod['x_targ'][0]).permute(1, 2, 0), cmap = 'hot')"
   ]
  },
  {
   "cell_type": "code",
   "execution_count": null,
   "id": "16014550-38a5-48d6-96b3-3149c645c1c6",
   "metadata": {},
   "outputs": [],
   "source": []
  }
 ],
 "metadata": {
  "kernelspec": {
   "display_name": "Python 3",
   "language": "python",
   "name": "python3"
  },
  "language_info": {
   "codemirror_mode": {
    "name": "ipython",
    "version": 3
   },
   "file_extension": ".py",
   "mimetype": "text/x-python",
   "name": "python",
   "nbconvert_exporter": "python",
   "pygments_lexer": "ipython3",
   "version": "3.8.10"
  }
 },
 "nbformat": 4,
 "nbformat_minor": 5
}
