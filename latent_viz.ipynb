{
 "cells": [
  {
   "cell_type": "code",
   "execution_count": 1,
   "metadata": {},
   "outputs": [
    {
     "data": {
      "text/plain": [
       "['.pylintrc',\n",
       " 'mkdocs.yml',\n",
       " 'requirements.txt',\n",
       " 'latent_viz.ipynb',\n",
       " 'requirements-test.txt',\n",
       " 'tests',\n",
       " 'disent',\n",
       " 'MANIFEST.in',\n",
       " 'requirements-exp.txt',\n",
       " 'docs',\n",
       " '.readthedocs.yml',\n",
       " 'README.md',\n",
       " 'setup.py',\n",
       " '.gitignore',\n",
       " '.github',\n",
       " 'experiment',\n",
       " '.ipynb_checkpoints',\n",
       " '.git',\n",
       " 'LICENSE.txt',\n",
       " 'data']"
      ]
     },
     "execution_count": 1,
     "metadata": {},
     "output_type": "execute_result"
    }
   ],
   "source": [
    "import os\n",
    "os.listdir()"
   ]
  },
  {
   "cell_type": "code",
   "execution_count": 2,
   "metadata": {},
   "outputs": [],
   "source": [
    "%%capture\n",
    "%pip install -U ipykernel"
   ]
  },
  {
   "cell_type": "code",
   "execution_count": 3,
   "metadata": {},
   "outputs": [],
   "source": [
    "%%capture\n",
    "%pip install pyro-ppl==0.3.0 kornia mayavi pyqt5 ipywidgets ipyevents"
   ]
  },
  {
   "cell_type": "markdown",
   "metadata": {},
   "source": [
    "Code from [here](https://stackoverflow.com/questions/13932150/matplotlib-wrong-overlapping-when-plotting-two-3d-surfaces-on-the-same-axes)"
   ]
  },
  {
   "cell_type": "code",
   "execution_count": 4,
   "metadata": {},
   "outputs": [],
   "source": [
    "import warnings\n",
    "import logging\n",
    "from dataclasses import dataclass\n",
    "from numbers import Number\n",
    "from typing import Any\n",
    "from typing import Dict\n",
    "from typing import final\n",
    "from typing import Optional\n",
    "from typing import Sequence\n",
    "from typing import Tuple\n",
    "from typing import Union\n",
    "\n",
    "import torch\n",
    "from torch.distributions import Distribution\n",
    "from torch.distributions import Laplace\n",
    "from torch.distributions import Normal\n",
    "\n",
    "from disent.frameworks.ae._unsupervised__ae import Ae\n",
    "from disent.frameworks.vae import BetaVae\n",
    "\n",
    "from disent.frameworks.helper.latent_distributions import LatentDistsHandler\n",
    "from disent.frameworks.helper.latent_distributions import make_latent_distribution\n",
    "from disent.frameworks.helper.util import detach_all\n",
    "\n",
    "from disent.util import map_all\n",
    "\n",
    "from dataclasses import fields\n",
    "from typing import Sequence\n",
    "from typing import Tuple, final\n",
    "\n",
    "import numpy as np\n",
    "\n",
    "\n",
    "from disent.frameworks.helper.reductions import loss_reduction\n",
    "from disent.frameworks.helper.util import compute_ave_loss\n",
    "from disent.frameworks.helper.latent_distributions import LatentDistsHandler\n",
    "\n",
    "\n",
    "from disent.model.ae.base import AutoEncoder\n",
    "REQUIRED_Z_MULTIPLIER = 2\n",
    "REQUIRED_OBS = 1\n",
    "\n",
    "\n",
    "#_model: AutoEncoder = make_model_fn() \n",
    "# --------------------------------------------------------------------- #\n",
    "# VAE Training Step                                                     #\n",
    "# --------------------------------------------------------------------- #\n",
    "\n",
    "def _get_xs_and_targs(batch: Dict[str, Tuple[torch.Tensor, ...]]) -> Tuple[Tuple[torch.Tensor, ...], Tuple[torch.Tensor, ...]]:\n",
    "    xs_targ = batch['x_targ']\n",
    "    if 'x' not in batch:\n",
    "        warnings.warn('dataset does not have input: x -> x_targ using target as input: x_targ -> x_targ')\n",
    "        xs = xs_targ\n",
    "    else:\n",
    "        xs = batch['x']\n",
    "    # check that we have the correct number of inputs\n",
    "    if (len(xs) != REQUIRED_OBS) or (len(xs_targ) != REQUIRED_OBS):\n",
    "        log.warning(f'batch len(xs)={len(xs)} and len(xs_targ)={len(xs_targ)} observation count mismatch, requires: {REQUIRED_OBS}')\n",
    "    # done\n",
    "    return xs, xs_targ\n",
    "\n",
    "def do_training_step(batch, batch_idx):\n",
    "    xs, xs_targ = _get_xs_and_targs(batch, batch_idx)\n",
    "\n",
    "    # FORWARD\n",
    "    # -~-~-~-~-~-~-~-~-~-~-~-~-~-~-~-~-~-~- #\n",
    "    # latent distribution parameterizations\n",
    "    ds_posterior, ds_prior = map_all(encode_dists, xs, collect_returned=True)\n",
    "\n",
    "    \"\"\"\n",
    "    # [HOOK] disable learnt scale values\n",
    "    ds_posterior, ds_prior = _hook_intercept_ds_disable_scale(ds_posterior, ds_prior)\n",
    "    # [HOOK] intercept latent parameterizations\n",
    "    ds_posterior, ds_prior, logs_intercept_ds = hook_intercept_ds(ds_posterior, ds_prior)\n",
    "    \"\"\"\n",
    "    # sample from dists\n",
    "    zs_sampled = tuple(d.rsample() for d in ds_posterior)\n",
    "    # reconstruct without the final activation\n",
    "    xs_partial_recon = map_all(decode_partial, detach_all(zs_sampled, if_=cfg.disable_decoder))\n",
    "    # -~-~-~-~-~-~-~-~-~-~-~-~-~-~-~-~-~-~- #\n",
    "\n",
    "    # LOSS\n",
    "    # -~-~-~-~-~-~-~-~-~-~-~-~-~-~-~-~-~-~- #\n",
    "    # compute all the recon losses\n",
    "    recon_loss, logs_recon = compute_ave_recon_loss(xs_partial_recon, xs_targ)\n",
    "    # compute all the regularization losses\n",
    "    reg_loss, logs_reg = compute_ave_reg_loss(ds_posterior, ds_prior, zs_sampled)\n",
    "    # [HOOK] augment loss\n",
    "    aug_loss, logs_aug = hook_compute_ave_aug_loss(ds_posterior=ds_posterior, ds_prior=ds_prior, zs_sampled=zs_sampled, xs_partial_recon=xs_partial_recon, xs_targ=xs_targ)\n",
    "    # compute combined loss\n",
    "    loss = 0\n",
    "    if not cfg.disable_rec_loss: loss += recon_loss\n",
    "    if not cfg.disable_aug_loss: loss += aug_loss\n",
    "    if not cfg.disable_reg_loss: loss += reg_loss\n",
    "    # -~-~-~-~-~-~-~-~-~-~-~-~-~-~-~-~-~-~- #\n",
    "\n",
    "    # return values\n",
    "    return loss, {\n",
    "        **logs_intercept_ds,\n",
    "        **logs_recon,\n",
    "        **logs_reg,\n",
    "        **logs_aug,\n",
    "        'recon_loss': recon_loss,\n",
    "        'reg_loss': reg_loss,\n",
    "        'aug_loss': aug_loss,\n",
    "    }\n",
    "\n",
    "# --------------------------------------------------------------------- #\n",
    "# Delete AE Hooks                                                       #\n",
    "# --------------------------------------------------------------------- #\n",
    "\n",
    "\n",
    "def hook_ae_intercept_zs(zs: Sequence[torch.Tensor]) -> Tuple[Sequence[torch.Tensor], Dict[str, Any]]:\n",
    "    raise NotImplementedError('This function should never be used or overridden by VAE methods!')  # pragma: no cover\n",
    "\n",
    "\n",
    "def hook_ae_compute_ave_aug_loss(zs: Sequence[torch.Tensor], xs_partial_recon: Sequence[torch.Tensor], xs_targ: Sequence[torch.Tensor]) -> Tuple[Union[torch.Tensor, Number], Dict[str, Any]]:\n",
    "    raise NotImplementedError('This function should never be used or overridden by VAE methods!')  # pragma: no cover\n",
    "\n",
    "# --------------------------------------------------------------------- #\n",
    "# Private Hooks                                                         #\n",
    "# --------------------------------------------------------------------- #\n",
    "\n",
    "def _hook_intercept_ds_disable_scale(ds_posterior: Sequence[Distribution], ds_prior: Sequence[Distribution]):\n",
    "    # disable posterior scales\n",
    "    if cfg.disable_posterior_scale is not None:\n",
    "        for d_posterior in ds_posterior:\n",
    "            assert isinstance(d_posterior, (Normal, Laplace))\n",
    "            d_posterior.scale = torch.full_like(d_posterior.scale, fill_value=cfg.disable_posterior_scale)\n",
    "    # return modified values\n",
    "    return ds_posterior, ds_prior\n",
    "\n",
    "# --------------------------------------------------------------------- #\n",
    "# Overrideable Hooks                                                    #\n",
    "# --------------------------------------------------------------------- #\n",
    "\n",
    "def hook_intercept_ds(ds_posterior: Sequence[Distribution], ds_prior: Sequence[Distribution]) -> Tuple[Sequence[Distribution], Sequence[Distribution], Dict[str, Any]]:\n",
    "    return ds_posterior, ds_prior, {}\n",
    "\n",
    "def hook_compute_ave_aug_loss(ds_posterior: Sequence[Distribution], ds_prior: Sequence[Distribution], zs_sampled: Sequence[torch.Tensor], xs_partial_recon: Sequence[torch.Tensor], xs_targ: Sequence[torch.Tensor]) -> Tuple[Union[torch.Tensor, Number], Dict[str, Any]]:\n",
    "    return 0, {}\n",
    "\n",
    "def compute_ave_reg_loss(ds_posterior: Sequence[Distribution], ds_prior: Sequence[Distribution], zs_sampled: Sequence[torch.Tensor]) -> Tuple[Union[torch.Tensor, Number], Dict[str, Any]]:\n",
    "    # compute regularization loss (kl divergence)\n",
    "    kl_loss = latents_handler.compute_ave_kl_loss(ds_posterior, ds_prior, zs_sampled)\n",
    "    # return logs\n",
    "    return kl_loss, {\n",
    "        'kl_loss': kl_loss,\n",
    "    }\n",
    "\n",
    "# --------------------------------------------------------------------- #\n",
    "# VAE - Encoding - Overrides AE                                         #\n",
    "# --------------------------------------------------------------------- #\n",
    "\n",
    "def encode(x: torch.Tensor) -> torch.Tensor:\n",
    "    \"\"\"Get the deterministic latent representation (useful for visualisation)\"\"\"\n",
    "    z_raw = module.encode(x)\n",
    "    z = latents_handler.encoding_to_representation(z_raw)\n",
    "    return z\n",
    "\n",
    "cfg=BetaVae.cfg(beta=0.003, loss_reduction='mean')\n",
    "latents_handler = make_latent_distribution(cfg.latent_distribution, kl_mode=cfg.kl_loss_mode, reduction=cfg.loss_reduction)\n",
    "\n",
    "\n",
    "def encode_dists(x: torch.Tensor) -> Tuple[Distribution, Distribution]:\n",
    "    \"\"\"Get parametrisations of the latent distributions, which are sampled from during training.\"\"\"\n",
    "    z_raw = module.encode(x)\n",
    "    z_posterior, z_prior = latents_handler.encoding_to_dists(z_raw)\n",
    "    return z_posterior, z_prior\n",
    "\n"
   ]
  },
  {
   "cell_type": "code",
   "execution_count": 18,
   "metadata": {},
   "outputs": [
    {
     "data": {
      "text/plain": [
       "(Normal(loc: torch.Size([1, 2]), scale: torch.Size([1, 2])),\n",
       " Normal(loc: torch.Size([1, 2]), scale: torch.Size([1, 2])))"
      ]
     },
     "execution_count": 18,
     "metadata": {},
     "output_type": "execute_result"
    }
   ],
   "source": [
    "from sklearn import linear_model\n",
    "from disent.dataset.groundtruth import GroundTruthDatasetTriples\n",
    "from disent.dataset.groundtruth import GroundTruthDistDataset\n",
    "from disent.metrics._flatness import get_device\n",
    "import pytorch_lightning as pl\n",
    "from torch.optim import Adam\n",
    "from torch.utils.data import DataLoader\n",
    "from disent.data.groundtruth import XYObjectData, XYSquaresData\n",
    "from disent.frameworks.vae import BetaVae\n",
    "from disent.model.ae import EncoderConv64, DecoderConv64, AutoEncoder\n",
    "from disent.transform import ToStandardisedTensor\n",
    "from disent.util import colors\n",
    "from disent.util import Timer\n",
    "\n",
    "def get_str(r):\n",
    "    return ', '.join(f'{k}={v:6.4f}' for k, v in r.items())\n",
    "\n",
    "def print_r(name, steps, result, clr=colors.lYLW, t: Timer = None):\n",
    "    print(f'{clr}{name:<13} ({steps:>04}){f\" {colors.GRY}[{t.pretty}]{clr}\" if t else \"\"}: {get_str(result)}{colors.RST}')\n",
    "\n",
    "def calculate(name, steps, dataset, get_repr):\n",
    "    print(get_repr)\n",
    "    #global aggregate_measure_distances_along_factor\n",
    "    #with Timer() as t:\n",
    "    #    r = {\n",
    "    #    #**metric_flatness_components(dataset, get_repr, factor_repeats=64, batch_size=64),\n",
    "    #    #    **metric_flatness(dataset, get_repr, factor_repeats=64, batch_size=64),\n",
    "    #    }\n",
    "    #results.append((name, steps, r))\n",
    "    #print_r(name, steps, r, colors.lRED, t=t)\n",
    "    #print(colors.GRY, '='*100, colors.RST, sep='')\n",
    "    #return r\n",
    "    \n",
    "\n",
    "class XYOverlapData(XYSquaresData):\n",
    "    def __init__(self, square_size=8, grid_size=64, grid_spacing=None, num_squares=3, rgb=True):\n",
    "        if grid_spacing is None:\n",
    "            grid_spacing = (square_size+1) // 2\n",
    "        super().__init__(square_size=square_size, grid_size=grid_size, grid_spacing=grid_spacing, num_squares=num_squares, rgb=rgb)\n",
    "\n",
    "####################\n",
    "#### train. ########\n",
    "####################\n",
    "\n",
    "results=[]\n",
    "data= XYSquaresData()\n",
    "dataset = GroundTruthDistDataset(data, transform=ToStandardisedTensor())\n",
    "dataloader = DataLoader(dataset=dataset, batch_size=1, shuffle=True, pin_memory=True)\n",
    "cfg=BetaVae.cfg(beta=0.003, loss_reduction='mean')\n",
    "module = BetaVae(\n",
    "    make_optimizer_fn=lambda params: Adam(params, lr=5e-4),\n",
    "    make_m1odel_fn=lambda: AutoEncoder(\n",
    "        encoder=EncoderConv64(x_shape=data.x_shape, z_size=2, z_multiplier=2),\n",
    "        decoder=DecoderConv64(x_shape=data.x_shape, z_size=2),\n",
    "    ),\n",
    "    cfg=cfg\n",
    ")\n",
    "\n",
    "latents_handler = make_latent_distribution(cfg.latent_distribution, kl_mode=cfg.kl_loss_mode, reduction=cfg.loss_reduction)\n",
    "\n",
    "datum = next(iter(dataloader))\n",
    "[x] = datum['x_targ']\n",
    "z_posterior, z_prior = module.encode_dists(x)\n",
    "z_posterior, z_prior\n",
    "\n"
   ]
  },
  {
   "cell_type": "code",
   "execution_count": 19,
   "metadata": {},
   "outputs": [
    {
     "data": {
      "text/plain": [
       "\"\\nposteriors = []\\npriors = []\\nfor i, d in enumerate(dataloader):\\n    print(i)\\n    if i == 50: break\\n    [x] = d['x_targ']\\n    z_posterior, z_prior = module.encode_dists(x)\\n    posteriors.append(z_posterior), priors.append(z_prior)\\n\""
      ]
     },
     "execution_count": 19,
     "metadata": {},
     "output_type": "execute_result"
    }
   ],
   "source": [
    "\"\"\"\n",
    "posteriors = []\n",
    "priors = []\n",
    "for i, d in enumerate(dataloader):\n",
    "    print(i)\n",
    "    if i == 50: break\n",
    "    [x] = d['x_targ']\n",
    "    z_posterior, z_prior = module.encode_dists(x)\n",
    "    posteriors.append(z_posterior), priors.append(z_prior)\n",
    "\"\"\"\n"
   ]
  },
  {
   "cell_type": "code",
   "execution_count": 20,
   "metadata": {},
   "outputs": [
    {
     "data": {
      "text/plain": [
       "'\\nimport torch\\nimport matplotlib.pyplot as plt\\n\\nmin = -4\\nmax = 4\\n\\n\\nsamples = []\\nn = 10\\nfor i in range(0,n):\\n    samples.append(z_prior.sample())\\n  \\nbins = 1000\\nhist = torch.histc(torch.Tensor(samples), bins=bins, min=min, max=max, out=None)\\n\\n# Printing the histogram of tensor\\nprint(\"Latent hist\")\\n#print(\"Latent hist\", hist)\\nx = range(bins) #range(min,max)\\nplt.bar(x, hist, align=\\'center\\', color=[\\'forestgreen\\'])\\nplt.xlabel(\\'Bins\\')\\nplt.ylabel(\\'Frequency\\')\\nplt.show()\\n'"
      ]
     },
     "execution_count": 20,
     "metadata": {},
     "output_type": "execute_result"
    }
   ],
   "source": [
    "\"\"\"\n",
    "import torch\n",
    "import matplotlib.pyplot as plt\n",
    "\n",
    "min = -4\n",
    "max = 4\n",
    "\n",
    "\n",
    "samples = []\n",
    "n = 10\n",
    "for i in range(0,n):\n",
    "    samples.append(z_prior.sample())\n",
    "  \n",
    "bins = 1000\n",
    "hist = torch.histc(torch.Tensor(samples), bins=bins, min=min, max=max, out=None)\n",
    "\n",
    "# Printing the histogram of tensor\n",
    "print(\"Latent hist\")\n",
    "#print(\"Latent hist\", hist)\n",
    "x = range(bins) #range(min,max)\n",
    "plt.bar(x, hist, align='center', color=['forestgreen'])\n",
    "plt.xlabel('Bins')\n",
    "plt.ylabel('Frequency')\n",
    "plt.show()\n",
    "\"\"\""
   ]
  },
  {
   "cell_type": "code",
   "execution_count": 19,
   "metadata": {},
   "outputs": [
    {
     "data": {
      "text/plain": [
       "tensor([[-0.0523]])"
      ]
     },
     "execution_count": 19,
     "metadata": {},
     "output_type": "execute_result"
    }
   ],
   "source": [
    "z_posterior.loc.detach()"
   ]
  },
  {
   "cell_type": "code",
   "execution_count": 51,
   "metadata": {},
   "outputs": [
    {
     "data": {
      "text/plain": [
       "tensor([[0., 0.]])"
      ]
     },
     "execution_count": 51,
     "metadata": {},
     "output_type": "execute_result"
    }
   ],
   "source": [
    "z_prior.loc"
   ]
  },
  {
   "cell_type": "code",
   "execution_count": 27,
   "metadata": {},
   "outputs": [
    {
     "data": {
      "text/plain": [
       "(tensor([[0., 0.]]), tensor([[1., 1.]]))"
      ]
     },
     "execution_count": 27,
     "metadata": {},
     "output_type": "execute_result"
    }
   ],
   "source": [
    "z_prior.loc.detach(), z_prior.scale.detach()\n",
    "\n",
    "\n"
   ]
  },
  {
   "cell_type": "code",
   "execution_count": 11,
   "metadata": {},
   "outputs": [
    {
     "name": "stdout",
     "output_type": "stream",
     "text": [
      "Notebook initialized with x3d backend.\n"
     ]
    }
   ],
   "source": [
    "from mayavi import mlab\n",
    "mlab.init_notebook(width=500, height=500, backend = \"x3d\")"
   ]
  },
  {
   "cell_type": "code",
   "execution_count": 12,
   "metadata": {},
   "outputs": [],
   "source": [
    "fig = mlab.figure()\n",
    "\n",
    "ax_ranges = [-2, 2, -2, 2, 0, 8]\n",
    "ax_scale = [1.0, 1.0, 0.4]\n",
    "ax_extent = ax_ranges * np.repeat(ax_scale, 2)\n",
    "\n",
    "#X, Y, Z_prior, Z_posterior = make_surfaces()\n",
    "\n",
    "#surf1 = mlab.surf(X, Y, Z_prior, colormap='Blues')\n",
    "#surf2 = mlab.surf(X, Y, Z_posterior, colormap='Oranges')\n",
    "\n",
    "surf1 = mlab.surf(mx, my, mz1, colormap='Blues')"
   ]
  },
  {
   "cell_type": "code",
   "execution_count": 27,
   "metadata": {},
   "outputs": [
    {
     "name": "stdout",
     "output_type": "stream",
     "text": [
      "\n",
      " μ mu_prior tensor([[0., 0.]]) \n",
      " 𝜎 sigma_prior tensor([[[1., 0.],\n",
      "         [0., 1.]]]) \n",
      "\n",
      "\n",
      " μ mu_posterior tensor([[-0.0170, -0.0338]]) \n",
      " 𝜎 sigma_posterior tensor([[[1.0012, 0.0000],\n",
      "         [0.0000, 1.0034]]], grad_fn=<ViewBackward>) \n",
      "\n"
     ]
    },
    {
     "name": "stderr",
     "output_type": "stream",
     "text": [
      "/var/folders/10/v6fg63596kb_zw6j2b74561r0000gn/T/ipykernel_51666/1628028854.py:45: MatplotlibDeprecationWarning: Calling gca() with keyword arguments was deprecated in Matplotlib 3.4. Starting two minor releases later, gca() will take no keyword arguments. The gca() function should only be used to get the current axes, or if no axes exist, create new axes with default keyword arguments. To create a new axes with non-default arguments, use plt.axes() or plt.subplot().\n",
      "  ax = fig.gca(projection='3d')\n",
      "/var/folders/10/v6fg63596kb_zw6j2b74561r0000gn/T/ipykernel_51666/1628028854.py:54: UserWarning: The following kwargs were not used by contour: 'zdifr'\n",
      "  cset = ax.contourf(X, Y, Z_posterior, zdifr='z', offset=-0.15, cmap=cm.autumn)\n"
     ]
    },
    {
     "data": {
      "text/plain": [
       "[<matplotlib.axis.XTick at 0x7ff5987b7f10>,\n",
       " <matplotlib.axis.XTick at 0x7ff578f8cdc0>,\n",
       " <matplotlib.axis.XTick at 0x7ff5989e8340>,\n",
       " <matplotlib.axis.XTick at 0x7ff5989e8a90>,\n",
       " <matplotlib.axis.XTick at 0x7ff5989fa220>]"
      ]
     },
     "execution_count": 27,
     "metadata": {},
     "output_type": "execute_result"
    },
    {
     "data": {
      "image/png": "[encoded data removed]",
      "text/plain": [
       "<Figure size 576x576 with 1 Axes>"
      ]
     },
     "metadata": {
      "needs_background": "light"
     },
     "output_type": "display_data"
    }
   ],
   "source": [
    "\n",
    "import torch\n",
    "import numpy as np\n",
    "import pyro.distributions as dist\n",
    "from matplotlib import pyplot as plt\n",
    "from matplotlib import cm\n",
    "\n",
    "\n",
    "\n",
    "def make_surfaces(n_samples = 60, x_min = -4, x_max = 4, y_min = -4, y_max = 4):\n",
    "\n",
    "    \n",
    "    # data\n",
    "    # Our 2-dimensional distribution will be over variables X and Y\n",
    "    X = np.linspace(x_min, x_max, n_samples)\n",
    "    Y = np.linspace(y_min, y_max, n_samples)\n",
    "    X, Y = np.meshgrid(X, Y)\n",
    "    \n",
    "    pos = torch.empty(X.shape + (2,))\n",
    "    pos[:, :, 0] = torch.from_numpy(X)\n",
    "    pos[:, :, 1] = torch.from_numpy(Y)\n",
    "    \n",
    "    \n",
    "    # Mean vector and covariance matrix\n",
    "    #mu =torch.tensor([0., 1.])\n",
    "    #Sigma =z_posterior.scale.detach()# #torch.tensor([[ 1. , -0.5], [-0.5,  1.5]])\n",
    "    mu_prior = z_prior.loc.detach()\n",
    "    sigma_prior=batch_diag(z_prior.scale)\n",
    "    print(f\"\\n μ mu_prior {mu_prior} \\n 𝜎 sigma_prior {sigma_prior} \\n\")\n",
    "\n",
    "    mu_posterior = z_posterior.loc.detach()\n",
    "    sigma_posterior=batch_diag(z_posterior.scale)\n",
    "    print(f\"\\n μ mu_posterior {mu_posterior} \\n 𝜎 sigma_posterior {sigma_posterior} \\n\")\n",
    "    # Pack X and Y into a single 3-dimensional array\n",
    "\n",
    "\n",
    "    # The distribution on the variables X, Y packed into pos.\n",
    "    Z_prior = dist.MultivariateNormal(mu_prior, sigma_prior).log_prob(pos).exp().detach().numpy()\n",
    "    Z_posterior = dist.MultivariateNormal(mu_posterior, sigma_posterior).log_prob(pos).exp().detach().numpy()\n",
    "    \n",
    "    \n",
    "    return X, Y, Z_prior, Z_posterior\n",
    "\n",
    "# Create a surface plot and projected filled contour plot under it.\n",
    "fig = plt.figure(figsize=(8, 8))\n",
    "ax = fig.gca(projection='3d')\n",
    "\n",
    "X,Y,Z_prior, Z_posterior = make_surfaces()\n",
    "surf = ax.plot_surface(X, Y, Z_prior, rstride=3, cstride=3, linewidth=1, antialiased=True,\n",
    "                cmap=cm.winter, zorder = 0)\n",
    "surf = ax.plot_surface(X, Y, -Z_posterior, rstride=3, cstride=3, linewidth=1, antialiased=True,\n",
    "               cmap=cm.autumn, zorder = 1)\n",
    "\n",
    "cset = ax.contourf(X, Y, Z_prior, zdir='z', offset=-0.15, cmap=cm.winter)\n",
    "cset = ax.contourf(X, Y, Z_posterior, zdifr='z', offset=-0.15, cmap=cm.autumn)\n",
    "\n",
    "# Adjust the limits, ticks and view angle\n",
    "ax.set_zlim(-0.15,0.2)\n",
    "ax.set_zticks(np.linspace(0,0.2,5))\n",
    "#ax.view_init(27, -21)\n",
    "\n"
   ]
  },
  {
   "cell_type": "code",
   "execution_count": 49,
   "metadata": {},
   "outputs": [
    {
     "data": {
      "text/plain": [
       "((80, 80), (60, 60))"
      ]
     },
     "execution_count": 49,
     "metadata": {},
     "output_type": "execute_result"
    }
   ],
   "source": [
    "#x,y,mz1, mz2 = make_surfaces()\n",
    "mx.shape, X.shape"
   ]
  },
  {
   "cell_type": "code",
   "execution_count": 9,
   "metadata": {},
   "outputs": [
    {
     "name": "stderr",
     "output_type": "stream",
     "text": [
      "qt.qpa.window: <QNSWindow: 0x7ff537ee3340; contentView=<QNSView: 0x7ff5408398c0; QCocoaWindow(0x60000096e100, window=QWidgetWindow(0x600001b00960, name=\"QMainWindowClassWindow\"))>> has active key-value observers (KVO)! These will stop working now that the window is recreated, and will result in exceptions when the observers are removed. Break in QCocoaWindow::recreateWindowIfNeeded to debug.\n"
     ]
    },
    {
     "ename": "NameError",
     "evalue": "name 'ax_extent' is not defined",
     "output_type": "error",
     "traceback": [
      "\u001b[0;31m---------------------------------------------------------------------------\u001b[0m",
      "\u001b[0;31mNameError\u001b[0m                                 Traceback (most recent call last)",
      "\u001b[1;32m/Users/neelanpather/dev/disent/latent_viz.ipynb Cell 16'\u001b[0m in \u001b[0;36m<cell line: 79>\u001b[0;34m()\u001b[0m\n\u001b[1;32m     <a href='vscode-notebook-cell:/Users/neelanpather/dev/disent/latent_viz.ipynb#ch0000014?line=76'>77</a>\u001b[0m mlab\u001b[39m.\u001b[39mview(\u001b[39m60\u001b[39m, \u001b[39m74\u001b[39m, \u001b[39m17\u001b[39m, [\u001b[39m-\u001b[39m\u001b[39m2.5\u001b[39m, \u001b[39m-\u001b[39m\u001b[39m4.6\u001b[39m, \u001b[39m-\u001b[39m\u001b[39m0.3\u001b[39m])\n\u001b[1;32m     <a href='vscode-notebook-cell:/Users/neelanpather/dev/disent/latent_viz.ipynb#ch0000014?line=77'>78</a>\u001b[0m mlab\u001b[39m.\u001b[39moutline(surf1, color\u001b[39m=\u001b[39m(\u001b[39m.7\u001b[39m, \u001b[39m.7\u001b[39m, \u001b[39m.7\u001b[39m))\u001b[39m#, extent=ax_extent)\u001b[39;00m\n\u001b[0;32m---> <a href='vscode-notebook-cell:/Users/neelanpather/dev/disent/latent_viz.ipynb#ch0000014?line=78'>79</a>\u001b[0m mlab\u001b[39m.\u001b[39maxes(surf1, color\u001b[39m=\u001b[39m(\u001b[39m.7\u001b[39m, \u001b[39m.7\u001b[39m, \u001b[39m.7\u001b[39m) , extent\u001b[39m=\u001b[39max_extent,\n\u001b[1;32m     <a href='vscode-notebook-cell:/Users/neelanpather/dev/disent/latent_viz.ipynb#ch0000014?line=79'>80</a>\u001b[0m             ranges\u001b[39m=\u001b[39max_ranges,\n\u001b[1;32m     <a href='vscode-notebook-cell:/Users/neelanpather/dev/disent/latent_viz.ipynb#ch0000014?line=80'>81</a>\u001b[0m              xlabel\u001b[39m=\u001b[39m\u001b[39m'\u001b[39m\u001b[39mx\u001b[39m\u001b[39m'\u001b[39m, ylabel\u001b[39m=\u001b[39m\u001b[39m'\u001b[39m\u001b[39my\u001b[39m\u001b[39m'\u001b[39m, zlabel\u001b[39m=\u001b[39m\u001b[39m'\u001b[39m\u001b[39mz\u001b[39m\u001b[39m'\u001b[39m)\n",
      "\u001b[0;31mNameError\u001b[0m: name 'ax_extent' is not defined"
     ]
    }
   ],
   "source": [
    "# generate data\n",
    "import numpy as np\n",
    "\n",
    "x = np.arange(-4, 4, 0.5)\n",
    "y = np.arange(-4, 4, 0.8)\n",
    "mx, my = np.meshgrid(x, y, indexing='ij')\n",
    "\n",
    "###########\n",
    "\n",
    "def batch_diag(batched_variance):\n",
    "    batch_shape = batched_variance.shape[:-1]\n",
    "    event_size = batched_variance.size(-1)\n",
    "    cov = batched_variance.new_zeros(batch_shape + (event_size * event_size,))\n",
    "    cov[..., ::1 + event_size] = batched_variance\n",
    "    return cov.reshape(batch_shape + (event_size, event_size))\n",
    "    \n",
    "\"\"\"\n",
    "X = np.linspace(-4, 4, 80)\n",
    "Y = np.linspace(-4, 4, 80)\n",
    "X, Y = np.meshgrid(X, Y)\n",
    "\n",
    "pos = torch.empty(X.shape + (2,))\n",
    "pos[:, :, 0] = torch.from_numpy(X)\n",
    "pos[:, :, 1] = torch.from_numpy(Y)\n",
    "    \n",
    "mu_prior = z_prior.loc.detach()\n",
    "sigma_prior=batch_diag(z_prior.scale)\n",
    "print(f\"\\n μ mu_prior {mu_prior} \\n 𝜎 sigma_prior {sigma_prior} \\n\")\n",
    "\n",
    "mu_posterior = z_posterior.loc.detach()\n",
    "sigma_posterior=batch_diag(z_posterior.scale)\n",
    "print(f\"\\n μ mu_posterior {mu_posterior} \\n 𝜎 sigma_posterior {sigma_posterior} \\n\")\n",
    "\n",
    "\n",
    "\n",
    "mz1 =  dist.MultivariateNormal(mu_prior, sigma_prior).log_prob(pos).exp().detach().numpy() #np.abs(mx) + np.abs(my)\n",
    "mz2 = dist.MultivariateNormal(mu_posterior, sigma_posterior).log_prob(pos).exp().detach().numpy() #mx ** 2 + my ** 2\n",
    "\"\"\"\n",
    "mz1 =  np.abs(mx) + np.abs(my)\n",
    "mz2 = mx ** 2 + my ** 2\n",
    "\n",
    "\n",
    "#x,y, mz1, mz2 =  make_surfaces(n_samples = 80, x_min = -4, x_max = 4, y_min = -4, y_max = 4)\n",
    "\n",
    "# A fix for \"API 'QString' has already been set to version 1\"\n",
    "# see https://github.com/enthought/pyface/issues/286#issuecomment-335436808\n",
    "from sys import version_info\n",
    "if version_info[0] < 3:\n",
    "    import pyface.qt\n",
    "\n",
    "#def v2_mayavi(transparency=True):\n",
    "from mayavi import mlab\n",
    "fig = mlab.figure()\n",
    "\n",
    "#ax_ranges = [-1, 1, -1, 1, 0, 0.05]\n",
    "#ax_scale = [1.0, 1.0, 1.0]\n",
    "#ax_extent = ax_ranges * np.repeat(ax_scale, 2)\n",
    "\n",
    "#X, Y, Z_prior, Z_posterior = make_surfaces()\n",
    "\n",
    "#surf1 = mlab.surf(X, Y, Z_prior, colormap='Blues')\n",
    "#surf2 = mlab.surf(X, Y, Z_posterior, colormap='Oranges')\n",
    "\n",
    "surf1 = mlab.surf(mx, my, mz1, colormap='Blues')\n",
    "surf2 = mlab.surf(mx, my, mz2, colormap='Oranges')\n",
    "\n",
    "\n",
    "#surf1.actor.actor.scale = ax_scale\n",
    "#surf2.actor.actor.scale = ax_scale \n",
    "\n",
    "\n",
    "#if transparency:\n",
    "#surf1.actor.property.opacity = 0.5\n",
    "#surf2.actor.property.opacity = 0.5\n",
    "#fig.scene.renderer.use_depth_peeling = 1\n",
    "\n",
    "mlab.view(60, 74, 17, [-2.5, -4.6, -0.3])\n",
    "mlab.outline(surf1, color=(.7, .7, .7))#, extent=ax_extent)\n",
    "mlab.axes(surf1, color=(.7, .7, .7) , extent=ax_extent,\n",
    "            ranges=ax_ranges,\n",
    "             xlabel='x', ylabel='y', zlabel='z')\n"
   ]
  },
  {
   "cell_type": "markdown",
   "metadata": {},
   "source": []
  },
  {
   "cell_type": "code",
   "execution_count": null,
   "metadata": {},
   "outputs": [
    {
     "data": {
      "application/vnd.jupyter.widget-view+json": {
       "model_id": "26227d12cad44f10b11961059eade8c2",
       "version_major": 2,
       "version_minor": 0
      },
      "text/plain": [
       "Image(value=b'\\x89PNG\\r\\n\\x1a\\n\\x00\\x00\\x00\\rIHDR\\x00\\x00\\x01\\x90\\x00\\x00\\x01^\\x08\\x02\\x00\\x00\\x00$?\\xde_\\x00\\…"
      ]
     },
     "metadata": {},
     "output_type": "display_data"
    }
   ],
   "source": [
    "s = mlab.test_plot3d()\n",
    "s"
   ]
  }
 ],
 "metadata": {
  "kernelspec": {
   "display_name": "Python 3.8.13 ('disent')",
   "language": "python",
   "name": "python3"
  },
  "language_info": {
   "codemirror_mode": {
    "name": "ipython",
    "version": 3
   },
   "file_extension": ".py",
   "mimetype": "text/x-python",
   "name": "python",
   "nbconvert_exporter": "python",
   "pygments_lexer": "ipython3",
   "version": "3.8.13"
  },
  "orig_nbformat": 4,
  "vscode": {
   "interpreter": {
    "hash": "445c25566c368280dbb7b4aa8a669063df6a24b168971b30f97889c069dbb878"
   }
  }
 },
 "nbformat": 4,
 "nbformat_minor": 2
}
